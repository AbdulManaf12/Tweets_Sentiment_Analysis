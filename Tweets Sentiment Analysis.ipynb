{
  "cells": [
    {
      "cell_type": "markdown",
      "metadata": {
        "id": "9AJgxGc2x0fL"
      },
      "source": [
        "# Basic Steps"
      ]
    },
    {
      "cell_type": "code",
      "execution_count": 1,
      "metadata": {
        "id": "k_wkX8RODbBv"
      },
      "outputs": [],
      "source": [
        "import os\n",
        "import re\n",
        "import nltk\n",
        "import pickle\n",
        "import numpy as np\n",
        "import pandas as pd\n",
        "import tensorflow as tf\n",
        "from nltk.corpus import stopwords\n",
        "from keras.models import Sequential\n",
        "from sklearn.model_selection import train_test_split\n",
        "from keras.layers import Embedding, SimpleRNN, TextVectorization, Dense, LSTM, Bidirectional\n",
        "from sklearn.metrics import precision_score, recall_score, f1_score, accuracy_score"
      ]
    },
    {
      "cell_type": "code",
      "execution_count": null,
      "metadata": {
        "colab": {
          "base_uri": "https://localhost:8080/"
        },
        "id": "wICbixOILKKy",
        "outputId": "db75e8cc-61c8-4ee9-bc8a-eb16b0dfa4ba"
      },
      "outputs": [
        {
          "name": "stderr",
          "output_type": "stream",
          "text": [
            "[nltk_data] Downloading package stopwords to /root/nltk_data...\n",
            "[nltk_data]   Unzipping corpora/stopwords.zip.\n"
          ]
        }
      ],
      "source": [
        "#COMMON USED CONSTATNS:\n",
        "FILE_NAME = r'dataset/training.1600000.processed.noemoticon.csv'\n",
        "COLUMNS = ['target','ids', 'date', 'flag', 'user', 'text']\n",
        "nltk.download('stopwords')\n",
        "STOP_WORDS = set(stopwords.words('english'))"
      ]
    },
    {
      "cell_type": "markdown",
      "metadata": {
        "id": "BXinlZr8NTRo"
      },
      "source": [
        "1. load the dataset and display number of samples for each class label (0=neg, \n",
        "1=neutral, 4=pos)"
      ]
    },
    {
      "cell_type": "code",
      "execution_count": null,
      "metadata": {
        "colab": {
          "base_uri": "https://localhost:8080/"
        },
        "id": "dtpZC6frDgOh",
        "outputId": "c3875c54-f7fe-412e-9ee6-1dd50c2a2e26"
      },
      "outputs": [
        {
          "data": {
            "text/plain": [
              "0    800000\n",
              "4    800000\n",
              "Name: target, dtype: int64"
            ]
          },
          "execution_count": 3,
          "metadata": {},
          "output_type": "execute_result"
        }
      ],
      "source": [
        "df = pd.read_csv(FILE_NAME, encoding='latin', header=None)\n",
        "df.columns = COLUMNS\n",
        "df['target'].value_counts()"
      ]
    },
    {
      "cell_type": "markdown",
      "metadata": {
        "id": "sQ3H9T8Bxsge"
      },
      "source": [
        "# Preprocessing"
      ]
    },
    {
      "cell_type": "markdown",
      "metadata": {
        "id": "IoKIWgYMNkZ6"
      },
      "source": [
        "2. clean it to remove stop-words and punctuation"
      ]
    },
    {
      "cell_type": "code",
      "execution_count": null,
      "metadata": {
        "id": "UawVukhtY7jL"
      },
      "outputs": [],
      "source": [
        "def remove_punctations_and_stopwords(text):\n",
        "  text = re.sub(r'[^\\w\\s]', '', text)\n",
        "  text = text.lower()\n",
        "  text = [w for w in text.split() if w not in STOP_WORDS]\n",
        "  return \" \".join(text)\n",
        "  \n",
        "df['text'] = df['text'].apply(remove_punctations_and_stopwords)"
      ]
    },
    {
      "cell_type": "code",
      "execution_count": 2,
      "metadata": {
        "id": "LB5ap-8aEoVy"
      },
      "outputs": [],
      "source": [
        "Dir_Path = r'weights/'\n",
        "\n",
        "def save_data(key, value):\n",
        "  pickle.dump(value, open(os.path.join(Dir_Path, (key + '.pkl')), 'wb'))  \n",
        "def load_data(key):\n",
        "  return (pickle.load(open(os.path.join(Dir_Path, (key + '.pkl')), 'rb')))"
      ]
    },
    {
      "cell_type": "markdown",
      "metadata": {
        "id": "ye2rRKIrxg2f"
      },
      "source": [
        "* Transforming target values (0,4) to (0,1)"
      ]
    },
    {
      "cell_type": "code",
      "execution_count": null,
      "metadata": {
        "id": "Up-x78qp0_sR"
      },
      "outputs": [],
      "source": [
        "def transform(x):\n",
        "  if x == 4:\n",
        "    return 1\n",
        "  return x\n",
        "\n",
        "df['target'] = df['target'].apply(transform) "
      ]
    },
    {
      "cell_type": "markdown",
      "metadata": {
        "id": "PbWHt_QwUt-V"
      },
      "source": [
        "3. split dataset in train and test with 30-70 ratio, ensure stratified split"
      ]
    },
    {
      "cell_type": "code",
      "execution_count": null,
      "metadata": {
        "id": "4DYS53alTWBa"
      },
      "outputs": [],
      "source": [
        "X = df['text']\n",
        "Y = df['target'].values\n",
        "X_train, X_test, Y_train, Y_test = train_test_split(X, Y, test_size = 0.30, random_state=42, stratify=Y)"
      ]
    },
    {
      "cell_type": "markdown",
      "metadata": {
        "id": "haRuYnMwxHNd"
      },
      "source": [
        "* converting inputs with vectors and generating vocabulary from this data"
      ]
    },
    {
      "cell_type": "code",
      "execution_count": null,
      "metadata": {
        "id": "DQ2Un5YvPHBI"
      },
      "outputs": [],
      "source": [
        "text_vectorization = TextVectorization(max_tokens=10000, \n",
        "                                       output_sequence_length=140,\n",
        "                                       output_mode=\"int\")\n",
        "text_vectorization.adapt(X)\n",
        "X_train = text_vectorization(X_train)\n",
        "X_test = text_vectorization(X_test)\n",
        "\n",
        "save_data(\"X-train\", X_train)\n",
        "save_data(\"Y-train\", Y_train)\n",
        "save_data(\"X-test\", X_test)\n",
        "save_data(\"Y-test\", Y_test)\n",
        "save_data(\"TextVectorize\", text_vectorization.get_vocabulary())"
      ]
    },
    {
      "cell_type": "code",
      "execution_count": 3,
      "metadata": {
        "id": "xSPpB6oFNt5C"
      },
      "outputs": [],
      "source": [
        "X_train = load_data(\"X-train\")\n",
        "Y_train = load_data(\"Y-train\")\n",
        "\n",
        "X_test = load_data(\"X-test\")\n",
        "Y_test = load_data(\"Y-test\")\n",
        "\n",
        "vocabulary = load_data(\"TextVectorize\")"
      ]
    },
    {
      "cell_type": "markdown",
      "metadata": {
        "id": "FfTCxbsjWOkz"
      },
      "source": [
        "4. train following models while validating each of these on 20% of the training \n",
        "data, "
      ]
    },
    {
      "cell_type": "markdown",
      "metadata": {
        "id": "NZxHhqoqxDtt"
      },
      "source": [
        "# RNN"
      ]
    },
    {
      "cell_type": "markdown",
      "metadata": {
        "id": "8_od83WZ2ip7"
      },
      "source": [
        "* *1. RNN with an embedding layer and two hidden layers (64, 32) to learn \n",
        "word embedding from the data, keeping max feature size = 10000 and \n",
        "max length of each tweet 140 words*"
      ]
    },
    {
      "cell_type": "code",
      "execution_count": null,
      "metadata": {
        "colab": {
          "base_uri": "https://localhost:8080/"
        },
        "id": "WZSNtO4TWRIp",
        "outputId": "309bc03f-2b16-42df-e183-63517c1c11bc"
      },
      "outputs": [
        {
          "name": "stdout",
          "output_type": "stream",
          "text": [
            "Epoch 1/10\n",
            "2987/2987 [==============================] - 447s 149ms/step - loss: 0.6614 - accuracy: 0.5964 - val_loss: 0.6117 - val_accuracy: 0.6800\n",
            "Epoch 2/10\n",
            "2987/2987 [==============================] - 444s 148ms/step - loss: 0.6240 - accuracy: 0.6619 - val_loss: 0.6539 - val_accuracy: 0.6147\n",
            "Epoch 3/10\n",
            "2987/2987 [==============================] - 394s 132ms/step - loss: 0.6205 - accuracy: 0.6666 - val_loss: 0.5959 - val_accuracy: 0.6883\n",
            "Epoch 4/10\n",
            "2987/2987 [==============================] - 394s 132ms/step - loss: 0.5926 - accuracy: 0.7008 - val_loss: 0.5649 - val_accuracy: 0.7324\n",
            "Epoch 5/10\n",
            "2987/2987 [==============================] - 389s 130ms/step - loss: 0.6107 - accuracy: 0.6806 - val_loss: 0.5979 - val_accuracy: 0.7107\n",
            "Epoch 6/10\n",
            "2987/2987 [==============================] - 389s 130ms/step - loss: 0.5653 - accuracy: 0.7202 - val_loss: 0.5343 - val_accuracy: 0.7590\n",
            "Epoch 7/10\n",
            "2987/2987 [==============================] - 398s 133ms/step - loss: 0.5419 - accuracy: 0.7417 - val_loss: 0.4890 - val_accuracy: 0.7732\n",
            "Epoch 8/10\n",
            "2987/2987 [==============================] - 402s 135ms/step - loss: 0.4847 - accuracy: 0.7742 - val_loss: 0.4747 - val_accuracy: 0.7782\n",
            "Epoch 9/10\n",
            "2987/2987 [==============================] - 395s 132ms/step - loss: 0.4687 - accuracy: 0.7815 - val_loss: 0.4809 - val_accuracy: 0.7756\n",
            "Epoch 10/10\n",
            "2987/2987 [==============================] - 391s 131ms/step - loss: 0.4874 - accuracy: 0.7747 - val_loss: 0.4796 - val_accuracy: 0.7758\n"
          ]
        }
      ],
      "source": [
        "model = Sequential()\n",
        "model.add(Embedding(10000, 140))\n",
        "model.add(SimpleRNN(32))\n",
        "model.add(Dense(64))\n",
        "model.add(Dense(32))\n",
        "model.add(Dense(1, activation='sigmoid'))\n",
        "model.compile(optimizer='rmsprop', loss='binary_crossentropy', metrics=['accuracy'])\n",
        "model.fit(X_train, Y_train, epochs=10, batch_size=300, validation_split=0.2)\n",
        "model.save(os.path.join(Dir_Path, \"models/model-1(arc).h5\"))\n",
        "model.save_weights(os.path.join(Dir_Path, \"models/model-1.h5\"))"
      ]
    },
    {
      "cell_type": "markdown",
      "metadata": {
        "id": "DobztldVFY9n"
      },
      "source": [
        "* *2. Check the impact of adding an additional layer of 128 in first task*"
      ]
    },
    {
      "cell_type": "code",
      "execution_count": null,
      "metadata": {
        "colab": {
          "base_uri": "https://localhost:8080/"
        },
        "id": "AhaRh5W1Ug1b",
        "outputId": "5df39a5f-283f-4bef-82b4-f00fbb02366a"
      },
      "outputs": [
        {
          "name": "stdout",
          "output_type": "stream",
          "text": [
            "Epoch 1/10\n",
            "2987/2987 [==============================] - 430s 143ms/step - loss: 0.5695 - accuracy: 0.7107 - val_loss: 0.5089 - val_accuracy: 0.7674\n",
            "Epoch 2/10\n",
            "2987/2987 [==============================] - 397s 133ms/step - loss: 0.5687 - accuracy: 0.7137 - val_loss: 0.5784 - val_accuracy: 0.7165\n",
            "Epoch 3/10\n",
            "2987/2987 [==============================] - 404s 135ms/step - loss: 0.5485 - accuracy: 0.7460 - val_loss: 0.5740 - val_accuracy: 0.7288\n",
            "Epoch 4/10\n",
            "2987/2987 [==============================] - 395s 132ms/step - loss: 0.5175 - accuracy: 0.7623 - val_loss: 0.5359 - val_accuracy: 0.7559\n",
            "Epoch 5/10\n",
            "2987/2987 [==============================] - 397s 133ms/step - loss: 0.5129 - accuracy: 0.7616 - val_loss: 0.5108 - val_accuracy: 0.7771\n",
            "Epoch 6/10\n",
            "2987/2987 [==============================] - 397s 133ms/step - loss: 0.4780 - accuracy: 0.7804 - val_loss: 0.4683 - val_accuracy: 0.7810\n",
            "Epoch 7/10\n",
            "2987/2987 [==============================] - 420s 140ms/step - loss: 0.4633 - accuracy: 0.7860 - val_loss: 0.4812 - val_accuracy: 0.7842\n",
            "Epoch 8/10\n",
            "2987/2987 [==============================] - 401s 134ms/step - loss: 0.4543 - accuracy: 0.7905 - val_loss: 0.4726 - val_accuracy: 0.7780\n",
            "Epoch 9/10\n",
            "2987/2987 [==============================] - 397s 133ms/step - loss: 0.4474 - accuracy: 0.7937 - val_loss: 0.4620 - val_accuracy: 0.7845\n",
            "Epoch 10/10\n",
            "2987/2987 [==============================] - 396s 133ms/step - loss: 0.4412 - accuracy: 0.7966 - val_loss: 0.4821 - val_accuracy: 0.7726\n"
          ]
        }
      ],
      "source": [
        "model = Sequential()\n",
        "model.add(Embedding(10000, 140))\n",
        "model.add(SimpleRNN(32))\n",
        "model.add(Dense(128))\n",
        "model.add(Dense(64))\n",
        "model.add(Dense(32))\n",
        "model.add(Dense(1, activation='sigmoid'))\n",
        "model.compile(optimizer='rmsprop', loss='binary_crossentropy', metrics=['accuracy'])\n",
        "model.fit(X_train, Y_train, epochs=10, batch_size=300, validation_split=0.2)\n",
        "model.save(os.path.join(Dir_Path, \"models/model-2(arc).h5\"))\n",
        "model.save_weights(os.path.join(Dir_Path, \"models/model-2.h5\"))"
      ]
    },
    {
      "cell_type": "markdown",
      "metadata": {
        "id": "MLTCSu9hFvdM"
      },
      "source": [
        "* *3. Repeat 1 and 2, this time use GloVe with 100-dim instead of learning \n",
        "word-embedding through embedding layer*"
      ]
    },
    {
      "cell_type": "code",
      "execution_count": null,
      "metadata": {
        "id": "vqduH8RBgDRB"
      },
      "outputs": [],
      "source": [
        "path_to_glove_file = \"/content/drive/MyDrive/Datasets/glove.6B/glove.6B.100d.txt\"\n",
        "embeddings_index = {}\n",
        "embedding_dim = 100\n",
        "\n",
        "with open(path_to_glove_file) as f:\n",
        "    for line in f:\n",
        "        word, coefs = line.split(maxsplit=1)\n",
        "        coefs = np.fromstring(coefs, \"f\", sep=\" \")\n",
        "        embeddings_index[word] = coefs\n",
        "\n",
        "word_index = dict(zip(vocabulary, range(len(vocabulary))))\n",
        "embedding_matrix = np.zeros((10000, embedding_dim))\n",
        "\n",
        "for word, i in word_index.items():\n",
        "    if i < 10000:\n",
        "        embedding_vector = embeddings_index.get(word)\n",
        "    if embedding_vector is not None:\n",
        "        embedding_matrix[i] = embedding_vector"
      ]
    },
    {
      "cell_type": "markdown",
      "metadata": {
        "id": "zVpvkx7vmrwH"
      },
      "source": [
        "* For Task-1:"
      ]
    },
    {
      "cell_type": "code",
      "execution_count": null,
      "metadata": {
        "colab": {
          "base_uri": "https://localhost:8080/"
        },
        "id": "uDlaYBR5l85_",
        "outputId": "3c185e4f-f28e-47c4-c403-4ba585315dfe"
      },
      "outputs": [
        {
          "name": "stdout",
          "output_type": "stream",
          "text": [
            "Epoch 1/10\n",
            "2987/2987 [==============================] - 230s 76ms/step - loss: 0.6446 - accuracy: 0.6306 - val_loss: 0.6141 - val_accuracy: 0.6814\n",
            "Epoch 2/10\n",
            "2987/2987 [==============================] - 227s 76ms/step - loss: 0.6122 - accuracy: 0.6802 - val_loss: 0.6209 - val_accuracy: 0.6810\n",
            "Epoch 3/10\n",
            "2987/2987 [==============================] - 229s 77ms/step - loss: 0.5929 - accuracy: 0.6964 - val_loss: 0.5972 - val_accuracy: 0.6994\n",
            "Epoch 4/10\n",
            "2987/2987 [==============================] - 229s 77ms/step - loss: 0.5841 - accuracy: 0.7050 - val_loss: 0.5858 - val_accuracy: 0.6963\n",
            "Epoch 5/10\n",
            "2987/2987 [==============================] - 226s 76ms/step - loss: 0.5697 - accuracy: 0.7128 - val_loss: 0.5563 - val_accuracy: 0.7230\n",
            "Epoch 6/10\n",
            "2987/2987 [==============================] - 270s 90ms/step - loss: 0.5635 - accuracy: 0.7135 - val_loss: 0.5626 - val_accuracy: 0.7162\n",
            "Epoch 7/10\n",
            "2987/2987 [==============================] - 280s 94ms/step - loss: 0.5751 - accuracy: 0.7042 - val_loss: 0.6580 - val_accuracy: 0.6466\n",
            "Epoch 8/10\n",
            "2987/2987 [==============================] - 236s 79ms/step - loss: 0.6574 - accuracy: 0.5895 - val_loss: 0.6340 - val_accuracy: 0.6335\n",
            "Epoch 9/10\n",
            "2987/2987 [==============================] - 228s 76ms/step - loss: 0.6287 - accuracy: 0.6432 - val_loss: 0.5731 - val_accuracy: 0.7108\n",
            "Epoch 10/10\n",
            "2987/2987 [==============================] - 231s 77ms/step - loss: 0.5623 - accuracy: 0.7156 - val_loss: 0.5639 - val_accuracy: 0.7160\n"
          ]
        }
      ],
      "source": [
        "model = Sequential()\n",
        "model.add(Embedding(10000, embedding_dim, input_length=140))\n",
        "model.add(SimpleRNN(32))\n",
        "model.add(Dense(64))\n",
        "model.add(Dense(32))\n",
        "model.add(Dense(1, activation='sigmoid'))\n",
        "model.layers[0].set_weights([embedding_matrix])\n",
        "model.layers[0].trainable = False\n",
        "model.compile(optimizer='rmsprop', loss='binary_crossentropy', metrics=['accuracy'])\n",
        "model.fit(X_train, Y_train, epochs=10, batch_size=300, validation_split=0.2)\n",
        "model.save(os.path.join(Dir_Path, \"models/model-3(arc).h5\"))\n",
        "model.save_weights(os.path.join(Dir_Path, \"models/model-3.h5\"))"
      ]
    },
    {
      "cell_type": "markdown",
      "metadata": {
        "id": "oRQ0YYxQmwHP"
      },
      "source": [
        "* For Task-2:"
      ]
    },
    {
      "cell_type": "code",
      "execution_count": null,
      "metadata": {
        "colab": {
          "base_uri": "https://localhost:8080/"
        },
        "id": "Z5g9WfDZmyH2",
        "outputId": "09611718-2371-4d22-a5b6-e41adf6765cd"
      },
      "outputs": [
        {
          "name": "stdout",
          "output_type": "stream",
          "text": [
            "Epoch 1/10\n",
            "2987/2987 [==============================] - 240s 80ms/step - loss: 0.6630 - accuracy: 0.6040 - val_loss: 0.6694 - val_accuracy: 0.6054\n",
            "Epoch 2/10\n",
            "2987/2987 [==============================] - 237s 79ms/step - loss: 0.6179 - accuracy: 0.6679 - val_loss: 0.5869 - val_accuracy: 0.6949\n",
            "Epoch 3/10\n",
            "2987/2987 [==============================] - 237s 79ms/step - loss: 0.5977 - accuracy: 0.6829 - val_loss: 0.5814 - val_accuracy: 0.7018\n",
            "Epoch 4/10\n",
            "2987/2987 [==============================] - 239s 80ms/step - loss: 0.5951 - accuracy: 0.6872 - val_loss: 0.5946 - val_accuracy: 0.6950\n",
            "Epoch 5/10\n",
            "2987/2987 [==============================] - 239s 80ms/step - loss: 0.6336 - accuracy: 0.6373 - val_loss: 0.6328 - val_accuracy: 0.6496\n",
            "Epoch 6/10\n",
            "2987/2987 [==============================] - 246s 82ms/step - loss: 0.5941 - accuracy: 0.6875 - val_loss: 0.5639 - val_accuracy: 0.7114\n",
            "Epoch 7/10\n",
            "2987/2987 [==============================] - 239s 80ms/step - loss: 0.6087 - accuracy: 0.6535 - val_loss: 0.5687 - val_accuracy: 0.7108\n",
            "Epoch 8/10\n",
            "2987/2987 [==============================] - 238s 80ms/step - loss: 0.6098 - accuracy: 0.6678 - val_loss: 0.7473 - val_accuracy: 0.3644\n",
            "Epoch 9/10\n",
            "2987/2987 [==============================] - 237s 79ms/step - loss: 0.6102 - accuracy: 0.6745 - val_loss: 0.6162 - val_accuracy: 0.6809\n",
            "Epoch 10/10\n",
            "2987/2987 [==============================] - 241s 81ms/step - loss: 0.6163 - accuracy: 0.6630 - val_loss: 0.5982 - val_accuracy: 0.6850\n"
          ]
        }
      ],
      "source": [
        "model = Sequential()\n",
        "model.add(Embedding(10000, embedding_dim, input_length=140))\n",
        "model.add(SimpleRNN(32))\n",
        "model.add(Dense(128))\n",
        "model.add(Dense(64))\n",
        "model.add(Dense(32))\n",
        "model.add(Dense(1, activation='sigmoid'))\n",
        "model.layers[0].set_weights([embedding_matrix])\n",
        "model.layers[0].trainable = False\n",
        "model.compile(optimizer='rmsprop', loss='binary_crossentropy', metrics=['accuracy'])\n",
        "model.fit(X_train, Y_train, epochs=10, batch_size=300, validation_split=0.2)\n",
        "model.save(os.path.join(Dir_Path, \"models/model-4(arc).h5\"))\n",
        "model.save_weights(os.path.join(Dir_Path, \"models/model-4.h5\"))"
      ]
    },
    {
      "cell_type": "markdown",
      "metadata": {
        "id": "Gk_5hgvlFxv8"
      },
      "source": [
        "* *4. Repeat 3, this time use GloVe-twitter instead of GloVe*"
      ]
    },
    {
      "cell_type": "code",
      "execution_count": null,
      "metadata": {
        "id": "-wyF9UKQnlnG"
      },
      "outputs": [],
      "source": [
        "path_to_glove_file = \"/content/drive/MyDrive/Datasets/glove.twitter.27B.100d.txt\"\n",
        "embeddings_index = {}\n",
        "embedding_dim = 100\n",
        "\n",
        "with open(path_to_glove_file) as f:\n",
        "    for line in f:\n",
        "        word, coefs = line.split(maxsplit=1)\n",
        "        coefs = np.fromstring(coefs, \"f\", sep=\" \")\n",
        "        embeddings_index[word] = coefs\n",
        "\n",
        "word_index = dict(zip(vocabulary, range(len(vocabulary))))\n",
        "embedding_matrix = np.zeros((10000, embedding_dim))\n",
        "\n",
        "for word, i in word_index.items():\n",
        "    if i < 10000:\n",
        "        embedding_vector = embeddings_index.get(word)\n",
        "    if embedding_vector is not None:\n",
        "        embedding_matrix[i] = embedding_vector"
      ]
    },
    {
      "cell_type": "markdown",
      "metadata": {
        "id": "MNoruf6dnwXP"
      },
      "source": [
        "* For Task-1:"
      ]
    },
    {
      "cell_type": "code",
      "execution_count": null,
      "metadata": {
        "colab": {
          "base_uri": "https://localhost:8080/"
        },
        "id": "jRctbXa9nqrv",
        "outputId": "6e3f33c5-9eea-4f76-ec04-458ad91d2d67"
      },
      "outputs": [
        {
          "name": "stdout",
          "output_type": "stream",
          "text": [
            "Epoch 1/10\n",
            "2987/2987 [==============================] - 247s 82ms/step - loss: 0.6415 - accuracy: 0.6308 - val_loss: 0.6237 - val_accuracy: 0.6566\n",
            "Epoch 2/10\n",
            "2987/2987 [==============================] - 249s 83ms/step - loss: 0.6002 - accuracy: 0.6940 - val_loss: 0.5732 - val_accuracy: 0.7136\n",
            "Epoch 3/10\n",
            "2987/2987 [==============================] - 243s 81ms/step - loss: 0.5641 - accuracy: 0.7162 - val_loss: 0.5409 - val_accuracy: 0.7207\n",
            "Epoch 4/10\n",
            "2987/2987 [==============================] - 249s 83ms/step - loss: 0.5526 - accuracy: 0.7227 - val_loss: 0.5512 - val_accuracy: 0.7209\n",
            "Epoch 5/10\n",
            "2987/2987 [==============================] - 271s 91ms/step - loss: 0.6116 - accuracy: 0.6496 - val_loss: 0.6004 - val_accuracy: 0.6860\n",
            "Epoch 6/10\n",
            "2987/2987 [==============================] - 252s 84ms/step - loss: 0.5546 - accuracy: 0.7190 - val_loss: 0.5536 - val_accuracy: 0.7290\n",
            "Epoch 7/10\n",
            "2987/2987 [==============================] - 256s 86ms/step - loss: 0.5260 - accuracy: 0.7402 - val_loss: 0.5449 - val_accuracy: 0.7275\n",
            "Epoch 8/10\n",
            "2987/2987 [==============================] - 245s 82ms/step - loss: 0.5929 - accuracy: 0.6740 - val_loss: 0.6846 - val_accuracy: 0.5319\n",
            "Epoch 9/10\n",
            "2987/2987 [==============================] - 249s 83ms/step - loss: 0.6758 - accuracy: 0.5743 - val_loss: 0.6847 - val_accuracy: 0.5450\n",
            "Epoch 10/10\n",
            "2987/2987 [==============================] - 248s 83ms/step - loss: 0.6841 - accuracy: 0.5535 - val_loss: 0.6816 - val_accuracy: 0.5620\n"
          ]
        }
      ],
      "source": [
        "model = Sequential()\n",
        "model.add(Embedding(10000, embedding_dim, input_length=140))\n",
        "model.add(SimpleRNN(32))\n",
        "model.add(Dense(64))\n",
        "model.add(Dense(32))\n",
        "model.add(Dense(1, activation='sigmoid'))\n",
        "model.layers[0].set_weights([embedding_matrix])\n",
        "model.layers[0].trainable = False\n",
        "model.compile(optimizer='rmsprop', loss='binary_crossentropy', metrics=['accuracy'])\n",
        "model.fit(X_train, Y_train, epochs=10, batch_size=300, validation_split=0.2)\n",
        "model.save(os.path.join(Dir_Path, \"models/model-5(arc).h5\"))\n",
        "model.save_weights(os.path.join(Dir_Path, \"models/model-5.h5\"))"
      ]
    },
    {
      "cell_type": "markdown",
      "metadata": {
        "id": "7X1j3P6nn0fa"
      },
      "source": [
        "* For Task-2:"
      ]
    },
    {
      "cell_type": "code",
      "execution_count": null,
      "metadata": {
        "colab": {
          "base_uri": "https://localhost:8080/"
        },
        "id": "JPIRZiw1nsm2",
        "outputId": "21562fec-96b2-4996-d77f-77913153e1e5"
      },
      "outputs": [
        {
          "name": "stdout",
          "output_type": "stream",
          "text": [
            "Epoch 1/10\n",
            "2987/2987 [==============================] - 258s 86ms/step - loss: 0.6387 - accuracy: 0.6377 - val_loss: 0.5823 - val_accuracy: 0.7073\n",
            "Epoch 2/10\n",
            "2987/2987 [==============================] - 256s 86ms/step - loss: 0.5823 - accuracy: 0.7012 - val_loss: 0.5864 - val_accuracy: 0.6991\n",
            "Epoch 3/10\n",
            "2987/2987 [==============================] - 250s 84ms/step - loss: 0.6129 - accuracy: 0.6760 - val_loss: 0.6184 - val_accuracy: 0.6653\n",
            "Epoch 4/10\n",
            "2987/2987 [==============================] - 249s 83ms/step - loss: 0.5780 - accuracy: 0.7106 - val_loss: 0.5457 - val_accuracy: 0.7306\n",
            "Epoch 5/10\n",
            "2987/2987 [==============================] - 248s 83ms/step - loss: 0.5506 - accuracy: 0.7255 - val_loss: 0.5521 - val_accuracy: 0.7202\n",
            "Epoch 6/10\n",
            "2987/2987 [==============================] - 250s 84ms/step - loss: 0.5457 - accuracy: 0.7280 - val_loss: 0.5188 - val_accuracy: 0.7441\n",
            "Epoch 7/10\n",
            "2987/2987 [==============================] - 249s 83ms/step - loss: 0.5185 - accuracy: 0.7438 - val_loss: 0.5248 - val_accuracy: 0.7295\n",
            "Epoch 8/10\n",
            "2987/2987 [==============================] - 249s 84ms/step - loss: 0.5130 - accuracy: 0.7469 - val_loss: 0.5138 - val_accuracy: 0.7459\n",
            "Epoch 9/10\n",
            "2987/2987 [==============================] - 250s 84ms/step - loss: 0.5218 - accuracy: 0.7429 - val_loss: 0.5044 - val_accuracy: 0.7542\n",
            "Epoch 10/10\n",
            "2987/2987 [==============================] - 247s 83ms/step - loss: 0.6175 - accuracy: 0.6315 - val_loss: 0.6936 - val_accuracy: 0.5057\n"
          ]
        }
      ],
      "source": [
        "model = Sequential()\n",
        "model.add(Embedding(10000, embedding_dim, input_length=140))\n",
        "model.add(SimpleRNN(32))\n",
        "model.add(Dense(128))\n",
        "model.add(Dense(64))\n",
        "model.add(Dense(32))\n",
        "model.add(Dense(1, activation='sigmoid'))\n",
        "model.layers[0].set_weights([embedding_matrix])\n",
        "model.layers[0].trainable = False\n",
        "model.compile(optimizer='rmsprop', loss='binary_crossentropy', metrics=['accuracy'])\n",
        "model.fit(X_train, Y_train, epochs=10, batch_size=300, validation_split=0.2)\n",
        "model.save(os.path.join(Dir_Path, \"models/model-6(arc).h5\"))\n",
        "model.save_weights(os.path.join(Dir_Path, \"models/model-6.h5\"))"
      ]
    },
    {
      "cell_type": "markdown",
      "metadata": {
        "id": "DCW4veTHFyqM"
      },
      "source": [
        "* *5. Repeat 3, replace GloVe with FastText*"
      ]
    },
    {
      "cell_type": "code",
      "execution_count": null,
      "metadata": {
        "id": "hcU-8AeYtCvI"
      },
      "outputs": [],
      "source": [
        "path_to_fasttext_file = \"/content/drive/MyDrive/Datasets/FastText(wiki-news-300d-1M).vec\"\n",
        "embeddings_index = {}\n",
        "embedding_dim = 300\n",
        "\n",
        "with open(path_to_fasttext_file) as f:\n",
        "    for line in f:\n",
        "        word, coefs = line.split(maxsplit=1)\n",
        "        coefs = np.fromstring(coefs, \"f\", sep=\" \")\n",
        "        embeddings_index[word] = coefs\n",
        "\n",
        "word_index = dict(zip(vocabulary, range(len(vocabulary))))\n",
        "embedding_matrix = np.zeros((10000, embedding_dim))\n",
        "\n",
        "for word, i in word_index.items():\n",
        "    if i < 10000:\n",
        "        embedding_vector = embeddings_index.get(word)\n",
        "    if embedding_vector is not None:\n",
        "        embedding_matrix[i] = embedding_vector"
      ]
    },
    {
      "cell_type": "markdown",
      "metadata": {
        "id": "jBd6dVrJtXgI"
      },
      "source": [
        "* For Task-1:"
      ]
    },
    {
      "cell_type": "code",
      "execution_count": null,
      "metadata": {
        "colab": {
          "base_uri": "https://localhost:8080/"
        },
        "id": "8UL7Px0Wabf1",
        "outputId": "977c6f2f-1400-4225-b947-5e85ee07a286"
      },
      "outputs": [
        {
          "name": "stdout",
          "output_type": "stream",
          "text": [
            "Epoch 1/10\n",
            "2987/2987 [==============================] - 507s 169ms/step - loss: 0.6195 - accuracy: 0.6673 - val_loss: 0.6366 - val_accuracy: 0.6616\n",
            "Epoch 2/10\n",
            "2987/2987 [==============================] - 419s 140ms/step - loss: 0.5966 - accuracy: 0.6936 - val_loss: 0.6162 - val_accuracy: 0.6937\n",
            "Epoch 3/10\n",
            "2987/2987 [==============================] - 404s 135ms/step - loss: 0.6080 - accuracy: 0.6802 - val_loss: 0.6242 - val_accuracy: 0.6687\n",
            "Epoch 4/10\n",
            "2987/2987 [==============================] - 403s 135ms/step - loss: 0.6074 - accuracy: 0.6829 - val_loss: 0.5907 - val_accuracy: 0.6973\n",
            "Epoch 5/10\n",
            "2987/2987 [==============================] - 401s 134ms/step - loss: 0.6330 - accuracy: 0.6450 - val_loss: 0.6364 - val_accuracy: 0.6530\n",
            "Epoch 6/10\n",
            "2987/2987 [==============================] - 401s 134ms/step - loss: 0.6176 - accuracy: 0.6648 - val_loss: 0.6572 - val_accuracy: 0.6297\n",
            "Epoch 7/10\n",
            "2987/2987 [==============================] - 401s 134ms/step - loss: 0.6407 - accuracy: 0.6372 - val_loss: 0.5857 - val_accuracy: 0.7009\n",
            "Epoch 8/10\n",
            "2987/2987 [==============================] - 409s 137ms/step - loss: 0.6152 - accuracy: 0.6674 - val_loss: 0.5829 - val_accuracy: 0.6973\n",
            "Epoch 9/10\n",
            "2987/2987 [==============================] - 404s 135ms/step - loss: 0.5905 - accuracy: 0.6919 - val_loss: 0.5764 - val_accuracy: 0.7085\n",
            "Epoch 10/10\n",
            "2987/2987 [==============================] - 401s 134ms/step - loss: 0.5785 - accuracy: 0.7061 - val_loss: 0.5732 - val_accuracy: 0.6965\n"
          ]
        }
      ],
      "source": [
        "model = Sequential()\n",
        "model.add(Embedding(10000, embedding_dim, input_length=140))\n",
        "model.add(SimpleRNN(32))\n",
        "model.add(Dense(64))\n",
        "model.add(Dense(32))\n",
        "model.add(Dense(1, activation='sigmoid'))\n",
        "model.layers[0].set_weights([embedding_matrix])\n",
        "model.layers[0].trainable = False\n",
        "model.compile(optimizer='rmsprop', loss='binary_crossentropy', metrics=['accuracy'])\n",
        "model.fit(X_train, Y_train, epochs=10, batch_size=300, validation_split=0.2)\n",
        "model.save(os.path.join(Dir_Path, \"models/model-7(arc).h5\"))\n",
        "model.save_weights(os.path.join(Dir_Path, \"models/model-7.h5\"))"
      ]
    },
    {
      "cell_type": "markdown",
      "metadata": {
        "id": "1dbZJeI7oCEN"
      },
      "source": [
        " * For Task-2:"
      ]
    },
    {
      "cell_type": "code",
      "execution_count": null,
      "metadata": {
        "colab": {
          "base_uri": "https://localhost:8080/"
        },
        "id": "SzbtlX0Tn-42",
        "outputId": "8d47da81-f0e7-43aa-bf36-7b6dd8d9011b"
      },
      "outputs": [
        {
          "name": "stdout",
          "output_type": "stream",
          "text": [
            "Epoch 1/10\n",
            "2987/2987 [==============================] - 350s 116ms/step - loss: 0.6484 - accuracy: 0.6228 - val_loss: 0.6131 - val_accuracy: 0.6787\n",
            "Epoch 2/10\n",
            "2987/2987 [==============================] - 345s 115ms/step - loss: 0.6131 - accuracy: 0.6775 - val_loss: 0.6037 - val_accuracy: 0.6885\n",
            "Epoch 3/10\n",
            "2987/2987 [==============================] - 349s 117ms/step - loss: 0.5856 - accuracy: 0.7070 - val_loss: 0.5868 - val_accuracy: 0.7134\n",
            "Epoch 4/10\n",
            "2987/2987 [==============================] - 342s 115ms/step - loss: 0.5684 - accuracy: 0.7191 - val_loss: 0.5752 - val_accuracy: 0.7208\n",
            "Epoch 5/10\n",
            "2987/2987 [==============================] - 343s 115ms/step - loss: 0.5607 - accuracy: 0.7224 - val_loss: 0.5347 - val_accuracy: 0.7398\n",
            "Epoch 6/10\n",
            "2987/2987 [==============================] - 340s 114ms/step - loss: 0.5476 - accuracy: 0.7314 - val_loss: 0.5263 - val_accuracy: 0.7463\n",
            "Epoch 7/10\n",
            "2987/2987 [==============================] - 339s 114ms/step - loss: 0.5323 - accuracy: 0.7407 - val_loss: 0.5142 - val_accuracy: 0.7531\n",
            "Epoch 8/10\n",
            "2987/2987 [==============================] - 335s 112ms/step - loss: 0.5199 - accuracy: 0.7474 - val_loss: 0.5081 - val_accuracy: 0.7558\n",
            "Epoch 9/10\n",
            "2987/2987 [==============================] - 333s 111ms/step - loss: 0.5122 - accuracy: 0.7513 - val_loss: 0.5071 - val_accuracy: 0.7558\n",
            "Epoch 10/10\n",
            "2987/2987 [==============================] - 333s 111ms/step - loss: 0.5063 - accuracy: 0.7553 - val_loss: 0.5142 - val_accuracy: 0.7479\n"
          ]
        }
      ],
      "source": [
        "model = Sequential()\n",
        "model.add(Embedding(10000, embedding_dim, input_length=140))\n",
        "model.add(SimpleRNN(32))\n",
        "model.add(Dense(128))\n",
        "model.add(Dense(64))\n",
        "model.add(Dense(32))\n",
        "model.add(Dense(1, activation='sigmoid'))\n",
        "model.layers[0].set_weights([embedding_matrix])\n",
        "model.layers[0].trainable = False\n",
        "model.compile(optimizer='rmsprop', loss='binary_crossentropy', metrics=['accuracy'])\n",
        "model.fit(X_train, Y_train, epochs=10, batch_size=300, validation_split=0.2)\n",
        "model.save(os.path.join(Dir_Path, \"models/model-8(arc).h5\"))\n",
        "model.save_weights(os.path.join(Dir_Path, \"models/model-8.h5\"))"
      ]
    },
    {
      "cell_type": "markdown",
      "metadata": {
        "id": "ACnYMKT6w85J"
      },
      "source": [
        "# LSTM"
      ]
    },
    {
      "cell_type": "markdown",
      "metadata": {
        "id": "KrGL0SrtF0dk"
      },
      "source": [
        "* *6. Repeat 1-5, replace RNN with LSTM*\n",
        "\n"
      ]
    },
    {
      "cell_type": "markdown",
      "metadata": {
        "id": "REoMtcmpJjzm"
      },
      "source": [
        "* Task-1 (with LSTM)\n"
      ]
    },
    {
      "cell_type": "code",
      "execution_count": null,
      "metadata": {
        "colab": {
          "base_uri": "https://localhost:8080/"
        },
        "id": "AnERf5STaUKM",
        "outputId": "32e0ea01-6ef4-442f-966f-ceecb70e9475"
      },
      "outputs": [
        {
          "name": "stdout",
          "output_type": "stream",
          "text": [
            "Epoch 1/10\n",
            "2987/2987 [==============================] - 80s 23ms/step - loss: 0.4633 - accuracy: 0.7788 - val_loss: 0.4419 - val_accuracy: 0.7911\n",
            "Epoch 2/10\n",
            "2987/2987 [==============================] - 60s 20ms/step - loss: 0.4341 - accuracy: 0.7969 - val_loss: 0.4367 - val_accuracy: 0.7954\n",
            "Epoch 3/10\n",
            "2987/2987 [==============================] - 62s 21ms/step - loss: 0.4232 - accuracy: 0.8033 - val_loss: 0.4344 - val_accuracy: 0.7966\n",
            "Epoch 4/10\n",
            "2987/2987 [==============================] - 61s 20ms/step - loss: 0.4149 - accuracy: 0.8086 - val_loss: 0.4372 - val_accuracy: 0.7967\n",
            "Epoch 5/10\n",
            "2987/2987 [==============================] - 59s 20ms/step - loss: 0.4080 - accuracy: 0.8124 - val_loss: 0.4351 - val_accuracy: 0.7957\n",
            "Epoch 6/10\n",
            "2987/2987 [==============================] - 61s 20ms/step - loss: 0.4018 - accuracy: 0.8161 - val_loss: 0.4335 - val_accuracy: 0.7960\n",
            "Epoch 7/10\n",
            "2987/2987 [==============================] - 61s 20ms/step - loss: 0.3959 - accuracy: 0.8199 - val_loss: 0.4325 - val_accuracy: 0.7964\n",
            "Epoch 8/10\n",
            "2987/2987 [==============================] - 60s 20ms/step - loss: 0.3902 - accuracy: 0.8232 - val_loss: 0.4385 - val_accuracy: 0.7954\n",
            "Epoch 9/10\n",
            "2987/2987 [==============================] - 60s 20ms/step - loss: 0.3844 - accuracy: 0.8263 - val_loss: 0.4441 - val_accuracy: 0.7952\n",
            "Epoch 10/10\n",
            "2987/2987 [==============================] - 60s 20ms/step - loss: 0.3790 - accuracy: 0.8296 - val_loss: 0.4465 - val_accuracy: 0.7917\n"
          ]
        }
      ],
      "source": [
        "model = Sequential()\n",
        "model.add(Embedding(10000, 140))\n",
        "model.add(Bidirectional(LSTM(32)))\n",
        "model.add(Dense(64))\n",
        "model.add(Dense(32))\n",
        "model.add(Dense(1, activation='sigmoid'))\n",
        "model.compile(optimizer='rmsprop', loss='binary_crossentropy', metrics=['accuracy'])\n",
        "model.fit(X_train, Y_train, epochs=10, batch_size=300, validation_split=0.2)\n",
        "model.save(os.path.join(Dir_Path, \"models/model-9(arc).h5\"))\n",
        "model.save_weights(os.path.join(Dir_Path, \"models/model-9.h5\"))"
      ]
    },
    {
      "cell_type": "markdown",
      "metadata": {
        "id": "g24RE5bxKKg4"
      },
      "source": [
        "* Task-2"
      ]
    },
    {
      "cell_type": "code",
      "execution_count": null,
      "metadata": {
        "colab": {
          "base_uri": "https://localhost:8080/"
        },
        "id": "lSdEAC3EaPRX",
        "outputId": "bcaaccac-0b0a-4efc-edb4-87b5f4077886"
      },
      "outputs": [
        {
          "name": "stdout",
          "output_type": "stream",
          "text": [
            "Epoch 1/10\n",
            "2987/2987 [==============================] - 73s 23ms/step - loss: 0.4632 - accuracy: 0.7789 - val_loss: 0.4436 - val_accuracy: 0.7911\n",
            "Epoch 2/10\n",
            "2987/2987 [==============================] - 61s 20ms/step - loss: 0.4341 - accuracy: 0.7973 - val_loss: 0.4367 - val_accuracy: 0.7942\n",
            "Epoch 3/10\n",
            "2987/2987 [==============================] - 60s 20ms/step - loss: 0.4231 - accuracy: 0.8038 - val_loss: 0.4327 - val_accuracy: 0.7965\n",
            "Epoch 4/10\n",
            "2987/2987 [==============================] - 61s 20ms/step - loss: 0.4151 - accuracy: 0.8088 - val_loss: 0.4313 - val_accuracy: 0.7980\n",
            "Epoch 5/10\n",
            "2987/2987 [==============================] - 60s 20ms/step - loss: 0.4082 - accuracy: 0.8126 - val_loss: 0.4352 - val_accuracy: 0.7954\n",
            "Epoch 6/10\n",
            "2987/2987 [==============================] - 60s 20ms/step - loss: 0.4016 - accuracy: 0.8166 - val_loss: 0.4336 - val_accuracy: 0.7964\n",
            "Epoch 7/10\n",
            "2987/2987 [==============================] - 62s 21ms/step - loss: 0.3955 - accuracy: 0.8204 - val_loss: 0.4351 - val_accuracy: 0.7962\n",
            "Epoch 8/10\n",
            "2987/2987 [==============================] - 61s 20ms/step - loss: 0.3897 - accuracy: 0.8237 - val_loss: 0.4414 - val_accuracy: 0.7943\n",
            "Epoch 9/10\n",
            "2987/2987 [==============================] - 60s 20ms/step - loss: 0.3836 - accuracy: 0.8271 - val_loss: 0.4448 - val_accuracy: 0.7901\n",
            "Epoch 10/10\n",
            "2987/2987 [==============================] - 60s 20ms/step - loss: 0.3779 - accuracy: 0.8308 - val_loss: 0.4471 - val_accuracy: 0.7916\n"
          ]
        }
      ],
      "source": [
        "model = Sequential()\n",
        "model.add(Embedding(10000, 140))\n",
        "model.add(Bidirectional(LSTM(32)))\n",
        "model.add(Dense(128))\n",
        "model.add(Dense(64))\n",
        "model.add(Dense(32))\n",
        "model.add(Dense(1, activation='sigmoid'))\n",
        "model.compile(optimizer='rmsprop', loss='binary_crossentropy', metrics=['accuracy'])\n",
        "model.fit(X_train, Y_train, epochs=10, batch_size=300, validation_split=0.2)\n",
        "model.save(os.path.join(Dir_Path, \"models/model-10(arc).h5\"))\n",
        "model.save_weights(os.path.join(Dir_Path, \"models/model-10.h5\"))"
      ]
    },
    {
      "cell_type": "markdown",
      "metadata": {
        "id": "ONAafmBgKc3J"
      },
      "source": [
        "* Task-3"
      ]
    },
    {
      "cell_type": "code",
      "execution_count": null,
      "metadata": {
        "id": "ZHbq4dahKe8j"
      },
      "outputs": [],
      "source": [
        "path_to_glove_file = \"/content/drive/MyDrive/Datasets/glove.6B/glove.6B.100d.txt\"\n",
        "embeddings_index = {}\n",
        "embedding_dim = 100\n",
        "\n",
        "with open(path_to_glove_file) as f:\n",
        "    for line in f:\n",
        "        word, coefs = line.split(maxsplit=1)\n",
        "        coefs = np.fromstring(coefs, \"f\", sep=\" \")\n",
        "        embeddings_index[word] = coefs\n",
        "\n",
        "word_index = dict(zip(vocabulary, range(len(vocabulary))))\n",
        "embedding_matrix = np.zeros((10000, embedding_dim))\n",
        "\n",
        "for word, i in word_index.items():\n",
        "    if i < 10000:\n",
        "        embedding_vector = embeddings_index.get(word)\n",
        "    if embedding_vector is not None:\n",
        "        embedding_matrix[i] = embedding_vector"
      ]
    },
    {
      "cell_type": "markdown",
      "metadata": {
        "id": "cXLSClpEKf7V"
      },
      "source": [
        " Part-A"
      ]
    },
    {
      "cell_type": "code",
      "execution_count": null,
      "metadata": {
        "colab": {
          "base_uri": "https://localhost:8080/"
        },
        "id": "pHG6r9krKh_p",
        "outputId": "c848546e-abcd-4087-b239-a2bc8ab23fc1"
      },
      "outputs": [
        {
          "name": "stdout",
          "output_type": "stream",
          "text": [
            "Epoch 1/10\n",
            "2987/2987 [==============================] - 58s 18ms/step - loss: 0.5187 - accuracy: 0.7417 - val_loss: 0.4930 - val_accuracy: 0.7603\n",
            "Epoch 2/10\n",
            "2987/2987 [==============================] - 52s 17ms/step - loss: 0.4812 - accuracy: 0.7670 - val_loss: 0.4726 - val_accuracy: 0.7735\n",
            "Epoch 3/10\n",
            "2987/2987 [==============================] - 51s 17ms/step - loss: 0.4698 - accuracy: 0.7745 - val_loss: 0.4667 - val_accuracy: 0.7766\n",
            "Epoch 4/10\n",
            "2987/2987 [==============================] - 52s 17ms/step - loss: 0.4630 - accuracy: 0.7789 - val_loss: 0.4626 - val_accuracy: 0.7793\n",
            "Epoch 5/10\n",
            "2987/2987 [==============================] - 51s 17ms/step - loss: 0.4584 - accuracy: 0.7816 - val_loss: 0.4717 - val_accuracy: 0.7743\n",
            "Epoch 6/10\n",
            "2987/2987 [==============================] - 53s 18ms/step - loss: 0.4551 - accuracy: 0.7835 - val_loss: 0.4582 - val_accuracy: 0.7820\n",
            "Epoch 7/10\n",
            "2987/2987 [==============================] - 52s 17ms/step - loss: 0.4524 - accuracy: 0.7852 - val_loss: 0.4617 - val_accuracy: 0.7803\n",
            "Epoch 8/10\n",
            "2987/2987 [==============================] - 51s 17ms/step - loss: 0.4501 - accuracy: 0.7868 - val_loss: 0.4569 - val_accuracy: 0.7834\n",
            "Epoch 9/10\n",
            "2987/2987 [==============================] - 51s 17ms/step - loss: 0.4484 - accuracy: 0.7876 - val_loss: 0.4541 - val_accuracy: 0.7843\n",
            "Epoch 10/10\n",
            "2987/2987 [==============================] - 58s 20ms/step - loss: 0.4466 - accuracy: 0.7887 - val_loss: 0.4576 - val_accuracy: 0.7819\n"
          ]
        }
      ],
      "source": [
        "model = Sequential()\n",
        "model.add(Embedding(10000, embedding_dim, input_length=140))\n",
        "model.add(Bidirectional(LSTM(32)))\n",
        "model.add(Dense(64))\n",
        "model.add(Dense(32))\n",
        "model.add(Dense(1, activation='sigmoid'))\n",
        "model.layers[0].set_weights([embedding_matrix])\n",
        "model.layers[0].trainable = False\n",
        "model.compile(optimizer='rmsprop', loss='binary_crossentropy', metrics=['accuracy'])\n",
        "model.fit(X_train, Y_train, epochs=10, batch_size=300, validation_split=0.2)\n",
        "model.save(os.path.join(Dir_Path, \"models/model-11(arc).h5\"))\n",
        "model.save_weights(os.path.join(Dir_Path, \"models/model-11.h5\"))"
      ]
    },
    {
      "cell_type": "markdown",
      "metadata": {
        "id": "1ZkSPYqxKn5g"
      },
      "source": [
        "Part-B"
      ]
    },
    {
      "cell_type": "code",
      "execution_count": null,
      "metadata": {
        "colab": {
          "base_uri": "https://localhost:8080/"
        },
        "id": "ibTsPJbXKu4h",
        "outputId": "6739e37c-6739-4dbc-bd86-1a714a946588"
      },
      "outputs": [
        {
          "name": "stdout",
          "output_type": "stream",
          "text": [
            "Epoch 1/10\n",
            "2987/2987 [==============================] - 57s 18ms/step - loss: 0.5179 - accuracy: 0.7422 - val_loss: 0.5041 - val_accuracy: 0.7511\n",
            "Epoch 2/10\n",
            "2987/2987 [==============================] - 54s 18ms/step - loss: 0.4811 - accuracy: 0.7669 - val_loss: 0.4738 - val_accuracy: 0.7720\n",
            "Epoch 3/10\n",
            "2987/2987 [==============================] - 52s 18ms/step - loss: 0.4696 - accuracy: 0.7742 - val_loss: 0.4736 - val_accuracy: 0.7724\n",
            "Epoch 4/10\n",
            "2987/2987 [==============================] - 53s 18ms/step - loss: 0.4665 - accuracy: 0.7766 - val_loss: 0.4655 - val_accuracy: 0.7786\n",
            "Epoch 5/10\n",
            "2987/2987 [==============================] - 52s 17ms/step - loss: 0.4585 - accuracy: 0.7814 - val_loss: 0.4605 - val_accuracy: 0.7808\n",
            "Epoch 6/10\n",
            "2987/2987 [==============================] - 51s 17ms/step - loss: 0.4548 - accuracy: 0.7836 - val_loss: 0.4590 - val_accuracy: 0.7820\n",
            "Epoch 7/10\n",
            "2987/2987 [==============================] - 51s 17ms/step - loss: 0.4532 - accuracy: 0.7844 - val_loss: 0.4585 - val_accuracy: 0.7826\n",
            "Epoch 8/10\n",
            "2987/2987 [==============================] - 53s 18ms/step - loss: 0.4499 - accuracy: 0.7866 - val_loss: 0.4584 - val_accuracy: 0.7831\n",
            "Epoch 9/10\n",
            "2987/2987 [==============================] - 51s 17ms/step - loss: 0.4481 - accuracy: 0.7880 - val_loss: 0.4632 - val_accuracy: 0.7782\n",
            "Epoch 10/10\n",
            "2987/2987 [==============================] - 51s 17ms/step - loss: 0.4463 - accuracy: 0.7889 - val_loss: 0.4537 - val_accuracy: 0.7848\n"
          ]
        }
      ],
      "source": [
        "model = Sequential()\n",
        "model.add(Embedding(10000, embedding_dim, input_length=140))\n",
        "model.add(Bidirectional(LSTM(32)))\n",
        "model.add(Dense(128))\n",
        "model.add(Dense(64))\n",
        "model.add(Dense(32))\n",
        "model.add(Dense(1, activation='sigmoid'))\n",
        "model.layers[0].set_weights([embedding_matrix])\n",
        "model.layers[0].trainable = False\n",
        "model.compile(optimizer='rmsprop', loss='binary_crossentropy', metrics=['accuracy'])\n",
        "model.fit(X_train, Y_train, epochs=10, batch_size=300, validation_split=0.2)\n",
        "model.save(os.path.join(Dir_Path, \"models/model-12(arc).h5\"))\n",
        "model.save_weights(os.path.join(Dir_Path, \"models/model-12.h5\"))"
      ]
    },
    {
      "cell_type": "markdown",
      "metadata": {
        "id": "L8N6QsuVKwg0"
      },
      "source": [
        "* Task-4"
      ]
    },
    {
      "cell_type": "code",
      "execution_count": null,
      "metadata": {
        "id": "GfPF-1L8K4C4"
      },
      "outputs": [],
      "source": [
        "path_to_glove_file = \"/content/drive/MyDrive/Datasets/glove.twitter.27B.100d.txt\"\n",
        "embeddings_index = {}\n",
        "embedding_dim = 100\n",
        "\n",
        "with open(path_to_glove_file) as f:\n",
        "    for line in f:\n",
        "        word, coefs = line.split(maxsplit=1)\n",
        "        coefs = np.fromstring(coefs, \"f\", sep=\" \")\n",
        "        embeddings_index[word] = coefs\n",
        "\n",
        "word_index = dict(zip(vocabulary, range(len(vocabulary))))\n",
        "embedding_matrix = np.zeros((10000, embedding_dim))\n",
        "\n",
        "for word, i in word_index.items():\n",
        "    if i < 10000:\n",
        "        embedding_vector = embeddings_index.get(word)\n",
        "    if embedding_vector is not None:\n",
        "        embedding_matrix[i] = embedding_vector"
      ]
    },
    {
      "cell_type": "markdown",
      "metadata": {
        "id": "7wH0CGNBK445"
      },
      "source": [
        "Part-A"
      ]
    },
    {
      "cell_type": "code",
      "execution_count": null,
      "metadata": {
        "colab": {
          "base_uri": "https://localhost:8080/"
        },
        "id": "Lw7mhWDzK_Yx",
        "outputId": "0d9cff29-4563-4abd-f10d-5687bcdbbcaf"
      },
      "outputs": [
        {
          "name": "stdout",
          "output_type": "stream",
          "text": [
            "Epoch 1/10\n",
            "2987/2987 [==============================] - 57s 18ms/step - loss: 0.4889 - accuracy: 0.7610 - val_loss: 0.4667 - val_accuracy: 0.7764\n",
            "Epoch 2/10\n",
            "2987/2987 [==============================] - 52s 17ms/step - loss: 0.4614 - accuracy: 0.7789 - val_loss: 0.4584 - val_accuracy: 0.7819\n",
            "Epoch 3/10\n",
            "2987/2987 [==============================] - 52s 17ms/step - loss: 0.4523 - accuracy: 0.7848 - val_loss: 0.4543 - val_accuracy: 0.7832\n",
            "Epoch 4/10\n",
            "2987/2987 [==============================] - 52s 17ms/step - loss: 0.4471 - accuracy: 0.7882 - val_loss: 0.4485 - val_accuracy: 0.7866\n",
            "Epoch 5/10\n",
            "2987/2987 [==============================] - 52s 17ms/step - loss: 0.4432 - accuracy: 0.7907 - val_loss: 0.4463 - val_accuracy: 0.7893\n",
            "Epoch 6/10\n",
            "2987/2987 [==============================] - 53s 18ms/step - loss: 0.4402 - accuracy: 0.7926 - val_loss: 0.4459 - val_accuracy: 0.7885\n",
            "Epoch 7/10\n",
            "2987/2987 [==============================] - 51s 17ms/step - loss: 0.4379 - accuracy: 0.7939 - val_loss: 0.4456 - val_accuracy: 0.7894\n",
            "Epoch 8/10\n",
            "2987/2987 [==============================] - 53s 18ms/step - loss: 0.4359 - accuracy: 0.7951 - val_loss: 0.4426 - val_accuracy: 0.7914\n",
            "Epoch 9/10\n",
            "2987/2987 [==============================] - 52s 18ms/step - loss: 0.4343 - accuracy: 0.7960 - val_loss: 0.4439 - val_accuracy: 0.7902\n",
            "Epoch 10/10\n",
            "2987/2987 [==============================] - 52s 18ms/step - loss: 0.4326 - accuracy: 0.7970 - val_loss: 0.4422 - val_accuracy: 0.7913\n"
          ]
        }
      ],
      "source": [
        "model = Sequential()\n",
        "model.add(Embedding(10000, embedding_dim, input_length=140))\n",
        "model.add(Bidirectional(LSTM(32)))\n",
        "model.add(Dense(64))\n",
        "model.add(Dense(32))\n",
        "model.add(Dense(1, activation='sigmoid'))\n",
        "model.layers[0].set_weights([embedding_matrix])\n",
        "model.layers[0].trainable = False\n",
        "model.compile(optimizer='rmsprop', loss='binary_crossentropy', metrics=['accuracy'])\n",
        "model.fit(X_train, Y_train, epochs=10, batch_size=300, validation_split=0.2)\n",
        "model.save(os.path.join(Dir_Path, \"models/model-13(arc).h5\"))\n",
        "model.save_weights(os.path.join(Dir_Path, \"models/model-13.h5\"))"
      ]
    },
    {
      "cell_type": "markdown",
      "metadata": {
        "id": "JoeTbgcCK6FX"
      },
      "source": [
        "Part-B"
      ]
    },
    {
      "cell_type": "code",
      "execution_count": null,
      "metadata": {
        "colab": {
          "base_uri": "https://localhost:8080/"
        },
        "id": "-nI2tobvLDkA",
        "outputId": "acc2f342-70e7-4c3f-96ac-3dc507c92fca"
      },
      "outputs": [
        {
          "name": "stdout",
          "output_type": "stream",
          "text": [
            "Epoch 1/10\n",
            "2987/2987 [==============================] - 58s 18ms/step - loss: 0.4901 - accuracy: 0.7600 - val_loss: 0.4688 - val_accuracy: 0.7744\n",
            "Epoch 2/10\n",
            "2987/2987 [==============================] - 53s 18ms/step - loss: 0.4622 - accuracy: 0.7787 - val_loss: 0.4562 - val_accuracy: 0.7816\n",
            "Epoch 3/10\n",
            "2987/2987 [==============================] - 53s 18ms/step - loss: 0.4531 - accuracy: 0.7844 - val_loss: 0.4514 - val_accuracy: 0.7848\n",
            "Epoch 4/10\n",
            "2987/2987 [==============================] - 55s 18ms/step - loss: 0.4474 - accuracy: 0.7877 - val_loss: 0.4486 - val_accuracy: 0.7866\n",
            "Epoch 5/10\n",
            "2987/2987 [==============================] - 53s 18ms/step - loss: 0.4435 - accuracy: 0.7902 - val_loss: 0.4474 - val_accuracy: 0.7882\n",
            "Epoch 6/10\n",
            "2987/2987 [==============================] - 53s 18ms/step - loss: 0.4406 - accuracy: 0.7919 - val_loss: 0.4438 - val_accuracy: 0.7901\n",
            "Epoch 7/10\n",
            "2987/2987 [==============================] - 53s 18ms/step - loss: 0.4383 - accuracy: 0.7933 - val_loss: 0.4499 - val_accuracy: 0.7873\n",
            "Epoch 8/10\n",
            "2987/2987 [==============================] - 53s 18ms/step - loss: 0.4362 - accuracy: 0.7947 - val_loss: 0.4425 - val_accuracy: 0.7907\n",
            "Epoch 9/10\n",
            "2987/2987 [==============================] - 54s 18ms/step - loss: 0.4345 - accuracy: 0.7955 - val_loss: 0.4416 - val_accuracy: 0.7916\n",
            "Epoch 10/10\n",
            "2987/2987 [==============================] - 52s 18ms/step - loss: 0.4355 - accuracy: 0.7952 - val_loss: 0.4428 - val_accuracy: 0.7912\n"
          ]
        }
      ],
      "source": [
        "model = Sequential()\n",
        "model.add(Embedding(10000, embedding_dim, input_length=140))\n",
        "model.add(Bidirectional(LSTM(32)))\n",
        "model.add(Dense(128))\n",
        "model.add(Dense(64))\n",
        "model.add(Dense(32))\n",
        "model.add(Dense(1, activation='sigmoid'))\n",
        "model.layers[0].set_weights([embedding_matrix])\n",
        "model.layers[0].trainable = False\n",
        "model.compile(optimizer='rmsprop', loss='binary_crossentropy', metrics=['accuracy'])\n",
        "model.fit(X_train, Y_train, epochs=10, batch_size=300, validation_split=0.2)\n",
        "model.save(os.path.join(Dir_Path, \"models/model-14(arc).h5\"))\n",
        "model.save_weights(os.path.join(Dir_Path, \"models/model-14.h5\"))"
      ]
    },
    {
      "cell_type": "markdown",
      "metadata": {
        "id": "EEFPb5RmtodQ"
      },
      "source": [
        "* Task-5"
      ]
    },
    {
      "cell_type": "code",
      "execution_count": null,
      "metadata": {
        "id": "hzbxqvWltrgy"
      },
      "outputs": [],
      "source": [
        "path_to_fasttext_file = \"/content/drive/MyDrive/Datasets/FastText(wiki-news-300d-1M).vec\"\n",
        "embeddings_index = {}\n",
        "embedding_dim = 300\n",
        "\n",
        "with open(path_to_fasttext_file) as f:\n",
        "    for line in f:\n",
        "        word, coefs = line.split(maxsplit=1)\n",
        "        coefs = np.fromstring(coefs, \"f\", sep=\" \")\n",
        "        embeddings_index[word] = coefs\n",
        "\n",
        "word_index = dict(zip(vocabulary, range(len(vocabulary))))\n",
        "embedding_matrix = np.zeros((10000, embedding_dim))\n",
        "\n",
        "for word, i in word_index.items():\n",
        "    if i < 10000:\n",
        "        embedding_vector = embeddings_index.get(word)\n",
        "    if embedding_vector is not None:\n",
        "        embedding_matrix[i] = embedding_vector"
      ]
    },
    {
      "cell_type": "markdown",
      "metadata": {
        "id": "6AP6jWfJttUA"
      },
      "source": [
        "Part-A:"
      ]
    },
    {
      "cell_type": "code",
      "execution_count": null,
      "metadata": {
        "colab": {
          "base_uri": "https://localhost:8080/"
        },
        "id": "JlPEl3vHt0Gn",
        "outputId": "7152760d-7a25-4bd5-9e9a-f3e896519471"
      },
      "outputs": [
        {
          "name": "stdout",
          "output_type": "stream",
          "text": [
            "Epoch 1/10\n",
            "2987/2987 [==============================] - 63s 20ms/step - loss: 0.4940 - accuracy: 0.7585 - val_loss: 0.4724 - val_accuracy: 0.7736\n",
            "Epoch 2/10\n",
            "2987/2987 [==============================] - 59s 20ms/step - loss: 0.4635 - accuracy: 0.7780 - val_loss: 0.4558 - val_accuracy: 0.7834\n",
            "Epoch 3/10\n",
            "2987/2987 [==============================] - 59s 20ms/step - loss: 0.4507 - accuracy: 0.7861 - val_loss: 0.4513 - val_accuracy: 0.7871\n",
            "Epoch 4/10\n",
            "2987/2987 [==============================] - 59s 20ms/step - loss: 0.4437 - accuracy: 0.7906 - val_loss: 0.4448 - val_accuracy: 0.7902\n",
            "Epoch 5/10\n",
            "2987/2987 [==============================] - 59s 20ms/step - loss: 0.4386 - accuracy: 0.7934 - val_loss: 0.4431 - val_accuracy: 0.7911\n",
            "Epoch 6/10\n",
            "2987/2987 [==============================] - 60s 20ms/step - loss: 0.4347 - accuracy: 0.7959 - val_loss: 0.4425 - val_accuracy: 0.7912\n",
            "Epoch 7/10\n",
            "2987/2987 [==============================] - 59s 20ms/step - loss: 0.4315 - accuracy: 0.7977 - val_loss: 0.4376 - val_accuracy: 0.7948\n",
            "Epoch 8/10\n",
            "2987/2987 [==============================] - 59s 20ms/step - loss: 0.4286 - accuracy: 0.7993 - val_loss: 0.4401 - val_accuracy: 0.7926\n",
            "Epoch 9/10\n",
            "2987/2987 [==============================] - 59s 20ms/step - loss: 0.4264 - accuracy: 0.8004 - val_loss: 0.4399 - val_accuracy: 0.7922\n",
            "Epoch 10/10\n",
            "2987/2987 [==============================] - 59s 20ms/step - loss: 0.4243 - accuracy: 0.8020 - val_loss: 0.4390 - val_accuracy: 0.7936\n"
          ]
        }
      ],
      "source": [
        "model = Sequential()\n",
        "model.add(Embedding(10000, embedding_dim, input_length=140))\n",
        "model.add(Bidirectional(LSTM(32)))\n",
        "model.add(Dense(64))\n",
        "model.add(Dense(32))\n",
        "model.add(Dense(1, activation='sigmoid'))\n",
        "model.layers[0].set_weights([embedding_matrix])\n",
        "model.layers[0].trainable = False\n",
        "model.compile(optimizer='rmsprop', loss='binary_crossentropy', metrics=['accuracy'])\n",
        "model.fit(X_train, Y_train, epochs=10, batch_size=300, validation_split=0.2)\n",
        "model.save(os.path.join(Dir_Path, \"models/model-15(arc).h5\"))\n",
        "model.save_weights(os.path.join(Dir_Path, \"models/model-15.h5\"))"
      ]
    },
    {
      "cell_type": "markdown",
      "metadata": {
        "id": "9FAjEPGntvLq"
      },
      "source": [
        "Part-B:"
      ]
    },
    {
      "cell_type": "code",
      "execution_count": null,
      "metadata": {
        "colab": {
          "base_uri": "https://localhost:8080/"
        },
        "id": "DxMjvz4Ft2H_",
        "outputId": "d57a8b7f-c9a2-4a74-b62d-b250d8ba7002"
      },
      "outputs": [
        {
          "name": "stdout",
          "output_type": "stream",
          "text": [
            "Epoch 1/10\n",
            "2987/2987 [==============================] - 68s 22ms/step - loss: 0.4958 - accuracy: 0.7577 - val_loss: 0.4889 - val_accuracy: 0.7616\n",
            "Epoch 2/10\n",
            "2987/2987 [==============================] - 62s 21ms/step - loss: 0.4621 - accuracy: 0.7793 - val_loss: 0.4554 - val_accuracy: 0.7842\n",
            "Epoch 3/10\n",
            "2987/2987 [==============================] - 61s 20ms/step - loss: 0.4506 - accuracy: 0.7860 - val_loss: 0.4488 - val_accuracy: 0.7876\n",
            "Epoch 4/10\n",
            "2987/2987 [==============================] - 60s 20ms/step - loss: 0.4439 - accuracy: 0.7903 - val_loss: 0.4523 - val_accuracy: 0.7857\n",
            "Epoch 5/10\n",
            "2987/2987 [==============================] - 60s 20ms/step - loss: 0.4385 - accuracy: 0.7933 - val_loss: 0.4419 - val_accuracy: 0.7917\n",
            "Epoch 6/10\n",
            "2987/2987 [==============================] - 60s 20ms/step - loss: 0.4349 - accuracy: 0.7953 - val_loss: 0.4424 - val_accuracy: 0.7920\n",
            "Epoch 7/10\n",
            "2987/2987 [==============================] - 60s 20ms/step - loss: 0.4318 - accuracy: 0.7970 - val_loss: 0.4381 - val_accuracy: 0.7937\n",
            "Epoch 8/10\n",
            "2987/2987 [==============================] - 60s 20ms/step - loss: 0.4327 - accuracy: 0.7968 - val_loss: 0.4387 - val_accuracy: 0.7934\n",
            "Epoch 9/10\n",
            "2987/2987 [==============================] - 60s 20ms/step - loss: 0.4263 - accuracy: 0.8002 - val_loss: 0.4375 - val_accuracy: 0.7935\n",
            "Epoch 10/10\n",
            "2987/2987 [==============================] - 60s 20ms/step - loss: 0.4239 - accuracy: 0.8017 - val_loss: 0.4362 - val_accuracy: 0.7947\n"
          ]
        }
      ],
      "source": [
        "model = Sequential()\n",
        "model.add(Embedding(10000, embedding_dim, input_length=140))\n",
        "model.add(Bidirectional(LSTM(32)))\n",
        "model.add(Dense(128))\n",
        "model.add(Dense(64))\n",
        "model.add(Dense(32))\n",
        "model.add(Dense(1, activation='sigmoid'))\n",
        "model.layers[0].set_weights([embedding_matrix])\n",
        "model.layers[0].trainable = False\n",
        "model.compile(optimizer='rmsprop', loss='binary_crossentropy', metrics=['accuracy'])\n",
        "model.fit(X_train, Y_train, epochs=10, batch_size=300, validation_split=0.2)\n",
        "model.save(os.path.join(Dir_Path, \"models/model-16(arc).h5\"))\n",
        "model.save_weights(os.path.join(Dir_Path, \"models/model-16.h5\"))"
      ]
    },
    {
      "cell_type": "markdown",
      "metadata": {
        "id": "vZDGshDAwwPz"
      },
      "source": [
        "# Result Section"
      ]
    },
    {
      "cell_type": "code",
      "execution_count": 4,
      "metadata": {
        "id": "Jp5pkcAdkeIi"
      },
      "outputs": [],
      "source": [
        "experiments = {'Experiments':['RNN with (64,32) Hidden Layers',\n",
        "                              'RNN with (128, 64,32) Hidden Layers',\n",
        "                              'RNN (64,32) with Glove-100dim',\n",
        "                              'RNN (128, 64,32) with Glove-100dim',\n",
        "                              'RNN (64,32) with GloveTwitter-100dim',\n",
        "                              'RNN (128, 64,32) with GloveTwitter-100dim',\n",
        "                              'RNN (64,32) with FastText-300dim',\n",
        "                              'RNN (128, 64,32) with FastText-300dim',\n",
        "                              'LSTM with (64,32) Hidden Layers',\n",
        "                              'LSTM with (128, 64,32) Hidden Layers',\n",
        "                              'LSTM (64,32) with Glove-100dim',\n",
        "                              'LSTM (128, 64,32) with Glove-100dim',\n",
        "                              'LSTM (64,32) with GloveTwitter-100dim',\n",
        "                              'LSTM (128, 64,32) with GloveTwitter-100dim',\n",
        "                              'LSTM (64,32) with FastText-300dim',\n",
        "                              'LSTM (128, 64,32) with FastText-300dim'], \n",
        "               'Accuracy': [], 'Precision': [], 'Recall': [], 'F1-Score': []}"
      ]
    },
    {
      "cell_type": "code",
      "execution_count": 5,
      "metadata": {
        "colab": {
          "base_uri": "https://localhost:8080/"
        },
        "id": "z99V-Iqd0um4",
        "outputId": "5578690e-086f-4d7e-c403-52901afcc8fb"
      },
      "outputs": [
        {
          "name": "stdout",
          "output_type": "stream",
          "text": [
            "15000/15000 [==============================] - 176s 12ms/step\n",
            "15000/15000 [==============================] - 166s 11ms/step\n",
            "15000/15000 [==============================] - 164s 11ms/step\n",
            "15000/15000 [==============================] - 163s 11ms/step\n",
            "15000/15000 [==============================] - 164s 11ms/step\n",
            "15000/15000 [==============================] - 177s 12ms/step\n",
            "15000/15000 [==============================] - 178s 12ms/step\n",
            "15000/15000 [==============================] - 179s 12ms/step\n",
            "15000/15000 [==============================] - 97s 6ms/step\n",
            "15000/15000 [==============================] - 85s 6ms/step\n",
            "15000/15000 [==============================] - 90s 6ms/step\n",
            "15000/15000 [==============================] - 89s 6ms/step\n",
            "15000/15000 [==============================] - 85s 6ms/step\n",
            "15000/15000 [==============================] - 88s 6ms/step\n",
            "15000/15000 [==============================] - 93s 6ms/step\n",
            "15000/15000 [==============================] - 94s 6ms/step\n"
          ]
        }
      ],
      "source": [
        "def results(model_no, rows):\n",
        "  model = tf.keras.models.load_model(os.path.join(Dir_Path, f'models/model-{model_no}(arc).h5'))\n",
        "  model.load_weights(os.path.join(Dir_Path, f'models/model-{model_no}.h5'))\n",
        "  Y_predict = (model.predict(X_test)).round()\n",
        "  rows['Accuracy'].append(accuracy_score(Y_test, Y_predict))\n",
        "  rows['Precision'].append(precision_score(Y_test, Y_predict))\n",
        "  rows['Recall'].append(recall_score(Y_test, Y_predict))\n",
        "  rows['F1-Score'].append(f1_score(Y_test, Y_predict))\n",
        "\n",
        "for i in range(1, 17):\n",
        "  results(i, experiments)"
      ]
    },
    {
      "cell_type": "code",
      "execution_count": 30,
      "metadata": {
        "colab": {
          "base_uri": "https://localhost:8080/",
          "height": 551
        },
        "id": "BTVCyoqdyZ9v",
        "outputId": "e0da433d-98ff-49b8-94f3-0c2a48e910ce"
      },
      "outputs": [
        {
          "data": {
            "text/html": [
              "\n",
              "  <div id=\"df-d75f6ba8-2531-4821-bf18-01104d571476\">\n",
              "    <div class=\"colab-df-container\">\n",
              "      <div>\n",
              "<style scoped>\n",
              "    .dataframe tbody tr th:only-of-type {\n",
              "        vertical-align: middle;\n",
              "    }\n",
              "\n",
              "    .dataframe tbody tr th {\n",
              "        vertical-align: top;\n",
              "    }\n",
              "\n",
              "    .dataframe thead th {\n",
              "        text-align: right;\n",
              "    }\n",
              "</style>\n",
              "<table border=\"1\" class=\"dataframe\">\n",
              "  <thead>\n",
              "    <tr style=\"text-align: right;\">\n",
              "      <th></th>\n",
              "      <th>Experiments</th>\n",
              "      <th>Accuracy</th>\n",
              "      <th>Precision</th>\n",
              "      <th>Recall</th>\n",
              "      <th>F1-Score</th>\n",
              "    </tr>\n",
              "  </thead>\n",
              "  <tbody>\n",
              "    <tr>\n",
              "      <th>0</th>\n",
              "      <td>RNN with (64,32) Hidden Layers</td>\n",
              "      <td>0.77</td>\n",
              "      <td>0.74</td>\n",
              "      <td>0.84</td>\n",
              "      <td>0.79</td>\n",
              "    </tr>\n",
              "    <tr>\n",
              "      <th>1</th>\n",
              "      <td>RNN with (128, 64,32) Hidden Layers</td>\n",
              "      <td>0.77</td>\n",
              "      <td>0.83</td>\n",
              "      <td>0.69</td>\n",
              "      <td>0.75</td>\n",
              "    </tr>\n",
              "    <tr>\n",
              "      <th>2</th>\n",
              "      <td>RNN (64,32) with Glove-100dim</td>\n",
              "      <td>0.72</td>\n",
              "      <td>0.76</td>\n",
              "      <td>0.63</td>\n",
              "      <td>0.69</td>\n",
              "    </tr>\n",
              "    <tr>\n",
              "      <th>3</th>\n",
              "      <td>RNN (128, 64,32) with Glove-100dim</td>\n",
              "      <td>0.68</td>\n",
              "      <td>0.75</td>\n",
              "      <td>0.55</td>\n",
              "      <td>0.64</td>\n",
              "    </tr>\n",
              "    <tr>\n",
              "      <th>4</th>\n",
              "      <td>RNN (64,32) with GloveTwitter-100dim</td>\n",
              "      <td>0.56</td>\n",
              "      <td>0.57</td>\n",
              "      <td>0.48</td>\n",
              "      <td>0.52</td>\n",
              "    </tr>\n",
              "    <tr>\n",
              "      <th>5</th>\n",
              "      <td>RNN (128, 64,32) with GloveTwitter-100dim</td>\n",
              "      <td>0.51</td>\n",
              "      <td>0.50</td>\n",
              "      <td>0.73</td>\n",
              "      <td>0.60</td>\n",
              "    </tr>\n",
              "    <tr>\n",
              "      <th>6</th>\n",
              "      <td>RNN (64,32) with FastText-300dim</td>\n",
              "      <td>0.70</td>\n",
              "      <td>0.81</td>\n",
              "      <td>0.52</td>\n",
              "      <td>0.63</td>\n",
              "    </tr>\n",
              "    <tr>\n",
              "      <th>7</th>\n",
              "      <td>RNN (128, 64,32) with FastText-300dim</td>\n",
              "      <td>0.75</td>\n",
              "      <td>0.80</td>\n",
              "      <td>0.66</td>\n",
              "      <td>0.72</td>\n",
              "    </tr>\n",
              "    <tr>\n",
              "      <th>8</th>\n",
              "      <td>LSTM with (64,32) Hidden Layers</td>\n",
              "      <td>0.79</td>\n",
              "      <td>0.81</td>\n",
              "      <td>0.77</td>\n",
              "      <td>0.79</td>\n",
              "    </tr>\n",
              "    <tr>\n",
              "      <th>9</th>\n",
              "      <td>LSTM with (128, 64,32) Hidden Layers</td>\n",
              "      <td>0.79</td>\n",
              "      <td>0.77</td>\n",
              "      <td>0.83</td>\n",
              "      <td>0.80</td>\n",
              "    </tr>\n",
              "    <tr>\n",
              "      <th>10</th>\n",
              "      <td>LSTM (64,32) with Glove-100dim</td>\n",
              "      <td>0.78</td>\n",
              "      <td>0.80</td>\n",
              "      <td>0.75</td>\n",
              "      <td>0.78</td>\n",
              "    </tr>\n",
              "    <tr>\n",
              "      <th>11</th>\n",
              "      <td>LSTM (128, 64,32) with Glove-100dim</td>\n",
              "      <td>0.78</td>\n",
              "      <td>0.77</td>\n",
              "      <td>0.80</td>\n",
              "      <td>0.79</td>\n",
              "    </tr>\n",
              "    <tr>\n",
              "      <th>12</th>\n",
              "      <td>LSTM (64,32) with GloveTwitter-100dim</td>\n",
              "      <td>0.79</td>\n",
              "      <td>0.79</td>\n",
              "      <td>0.80</td>\n",
              "      <td>0.79</td>\n",
              "    </tr>\n",
              "    <tr>\n",
              "      <th>13</th>\n",
              "      <td>LSTM (128, 64,32) with GloveTwitter-100dim</td>\n",
              "      <td>0.79</td>\n",
              "      <td>0.77</td>\n",
              "      <td>0.82</td>\n",
              "      <td>0.80</td>\n",
              "    </tr>\n",
              "    <tr>\n",
              "      <th>14</th>\n",
              "      <td>LSTM (64,32) with FastText-300dim</td>\n",
              "      <td>0.79</td>\n",
              "      <td>0.77</td>\n",
              "      <td>0.84</td>\n",
              "      <td>0.80</td>\n",
              "    </tr>\n",
              "    <tr>\n",
              "      <th>15</th>\n",
              "      <td>LSTM (128, 64,32) with FastText-300dim</td>\n",
              "      <td>0.79</td>\n",
              "      <td>0.78</td>\n",
              "      <td>0.82</td>\n",
              "      <td>0.80</td>\n",
              "    </tr>\n",
              "  </tbody>\n",
              "</table>\n",
              "</div>\n",
              "      <button class=\"colab-df-convert\" onclick=\"convertToInteractive('df-d75f6ba8-2531-4821-bf18-01104d571476')\"\n",
              "              title=\"Convert this dataframe to an interactive table.\"\n",
              "              style=\"display:none;\">\n",
              "        \n",
              "  <svg xmlns=\"http://www.w3.org/2000/svg\" height=\"24px\"viewBox=\"0 0 24 24\"\n",
              "       width=\"24px\">\n",
              "    <path d=\"M0 0h24v24H0V0z\" fill=\"none\"/>\n",
              "    <path d=\"M18.56 5.44l.94 2.06.94-2.06 2.06-.94-2.06-.94-.94-2.06-.94 2.06-2.06.94zm-11 1L8.5 8.5l.94-2.06 2.06-.94-2.06-.94L8.5 2.5l-.94 2.06-2.06.94zm10 10l.94 2.06.94-2.06 2.06-.94-2.06-.94-.94-2.06-.94 2.06-2.06.94z\"/><path d=\"M17.41 7.96l-1.37-1.37c-.4-.4-.92-.59-1.43-.59-.52 0-1.04.2-1.43.59L10.3 9.45l-7.72 7.72c-.78.78-.78 2.05 0 2.83L4 21.41c.39.39.9.59 1.41.59.51 0 1.02-.2 1.41-.59l7.78-7.78 2.81-2.81c.8-.78.8-2.07 0-2.86zM5.41 20L4 18.59l7.72-7.72 1.47 1.35L5.41 20z\"/>\n",
              "  </svg>\n",
              "      </button>\n",
              "      \n",
              "  <style>\n",
              "    .colab-df-container {\n",
              "      display:flex;\n",
              "      flex-wrap:wrap;\n",
              "      gap: 12px;\n",
              "    }\n",
              "\n",
              "    .colab-df-convert {\n",
              "      background-color: #E8F0FE;\n",
              "      border: none;\n",
              "      border-radius: 50%;\n",
              "      cursor: pointer;\n",
              "      display: none;\n",
              "      fill: #1967D2;\n",
              "      height: 32px;\n",
              "      padding: 0 0 0 0;\n",
              "      width: 32px;\n",
              "    }\n",
              "\n",
              "    .colab-df-convert:hover {\n",
              "      background-color: #E2EBFA;\n",
              "      box-shadow: 0px 1px 2px rgba(60, 64, 67, 0.3), 0px 1px 3px 1px rgba(60, 64, 67, 0.15);\n",
              "      fill: #174EA6;\n",
              "    }\n",
              "\n",
              "    [theme=dark] .colab-df-convert {\n",
              "      background-color: #3B4455;\n",
              "      fill: #D2E3FC;\n",
              "    }\n",
              "\n",
              "    [theme=dark] .colab-df-convert:hover {\n",
              "      background-color: #434B5C;\n",
              "      box-shadow: 0px 1px 3px 1px rgba(0, 0, 0, 0.15);\n",
              "      filter: drop-shadow(0px 1px 2px rgba(0, 0, 0, 0.3));\n",
              "      fill: #FFFFFF;\n",
              "    }\n",
              "  </style>\n",
              "\n",
              "      <script>\n",
              "        const buttonEl =\n",
              "          document.querySelector('#df-d75f6ba8-2531-4821-bf18-01104d571476 button.colab-df-convert');\n",
              "        buttonEl.style.display =\n",
              "          google.colab.kernel.accessAllowed ? 'block' : 'none';\n",
              "\n",
              "        async function convertToInteractive(key) {\n",
              "          const element = document.querySelector('#df-d75f6ba8-2531-4821-bf18-01104d571476');\n",
              "          const dataTable =\n",
              "            await google.colab.kernel.invokeFunction('convertToInteractive',\n",
              "                                                     [key], {});\n",
              "          if (!dataTable) return;\n",
              "\n",
              "          const docLinkHtml = 'Like what you see? Visit the ' +\n",
              "            '<a target=\"_blank\" href=https://colab.research.google.com/notebooks/data_table.ipynb>data table notebook</a>'\n",
              "            + ' to learn more about interactive tables.';\n",
              "          element.innerHTML = '';\n",
              "          dataTable['output_type'] = 'display_data';\n",
              "          await google.colab.output.renderOutput(dataTable, element);\n",
              "          const docLink = document.createElement('div');\n",
              "          docLink.innerHTML = docLinkHtml;\n",
              "          element.appendChild(docLink);\n",
              "        }\n",
              "      </script>\n",
              "    </div>\n",
              "  </div>\n",
              "  "
            ],
            "text/plain": [
              "                                   Experiments  Accuracy  Precision  Recall  \\\n",
              "0               RNN with (64,32) Hidden Layers      0.77       0.74    0.84   \n",
              "1          RNN with (128, 64,32) Hidden Layers      0.77       0.83    0.69   \n",
              "2                RNN (64,32) with Glove-100dim      0.72       0.76    0.63   \n",
              "3           RNN (128, 64,32) with Glove-100dim      0.68       0.75    0.55   \n",
              "4         RNN (64,32) with GloveTwitter-100dim      0.56       0.57    0.48   \n",
              "5    RNN (128, 64,32) with GloveTwitter-100dim      0.51       0.50    0.73   \n",
              "6             RNN (64,32) with FastText-300dim      0.70       0.81    0.52   \n",
              "7        RNN (128, 64,32) with FastText-300dim      0.75       0.80    0.66   \n",
              "8              LSTM with (64,32) Hidden Layers      0.79       0.81    0.77   \n",
              "9         LSTM with (128, 64,32) Hidden Layers      0.79       0.77    0.83   \n",
              "10              LSTM (64,32) with Glove-100dim      0.78       0.80    0.75   \n",
              "11         LSTM (128, 64,32) with Glove-100dim      0.78       0.77    0.80   \n",
              "12       LSTM (64,32) with GloveTwitter-100dim      0.79       0.79    0.80   \n",
              "13  LSTM (128, 64,32) with GloveTwitter-100dim      0.79       0.77    0.82   \n",
              "14           LSTM (64,32) with FastText-300dim      0.79       0.77    0.84   \n",
              "15      LSTM (128, 64,32) with FastText-300dim      0.79       0.78    0.82   \n",
              "\n",
              "    F1-Score  \n",
              "0       0.79  \n",
              "1       0.75  \n",
              "2       0.69  \n",
              "3       0.64  \n",
              "4       0.52  \n",
              "5       0.60  \n",
              "6       0.63  \n",
              "7       0.72  \n",
              "8       0.79  \n",
              "9       0.80  \n",
              "10      0.78  \n",
              "11      0.79  \n",
              "12      0.79  \n",
              "13      0.80  \n",
              "14      0.80  \n",
              "15      0.80  "
            ]
          },
          "execution_count": 30,
          "metadata": {},
          "output_type": "execute_result"
        }
      ],
      "source": [
        "result_table = pd.DataFrame(experiments)\n",
        "result_table.to_excel(os.path.join(Dir_Path, \"Experiment Results.xlsx\"))\n",
        "result_table = result_table.round(decimals=2) \n",
        "result_table"
      ]
    },
    {
      "cell_type": "markdown",
      "metadata": {
        "id": "eYijO5jv5slU"
      },
      "source": [
        "**Best Model:** I mean in my assignment, i have observed all of the models they performing very well just a little bit difference among them. However, but I noticed that when I train the LSTM-(128, 64, 32) with Hidden Layers it performs fantastics the training accuracy around 83% i got also when it performed on testing data it is also giving us around 78% which is good enough. "
      ]
    }
  ],
  "metadata": {
    "accelerator": "GPU",
    "colab": {
      "collapsed_sections": [
        "9AJgxGc2x0fL",
        "sQ3H9T8Bxsge",
        "NZxHhqoqxDtt",
        "ACnYMKT6w85J",
        "vZDGshDAwwPz"
      ],
      "provenance": []
    },
    "gpuClass": "standard",
    "kernelspec": {
      "display_name": "Python 3",
      "language": "python",
      "name": "python3"
    },
    "language_info": {
      "name": "python",
      "version": "3.9.0"
    },
    "vscode": {
      "interpreter": {
        "hash": "6fff98fc3b3d81bd655c2cc48858186e4d9e2db7b515bf1c3221888f12a62f87"
      }
    }
  },
  "nbformat": 4,
  "nbformat_minor": 0
}
